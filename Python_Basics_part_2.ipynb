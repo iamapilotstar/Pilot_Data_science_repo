{
  "nbformat": 4,
  "nbformat_minor": 0,
  "metadata": {
    "colab": {
      "provenance": []
    },
    "kernelspec": {
      "name": "python3",
      "display_name": "Python 3"
    },
    "language_info": {
      "name": "python"
    }
  },
  "cells": [
    {
      "cell_type": "markdown",
      "source": [
        "# Hello World using print()"
      ],
      "metadata": {
        "id": "nPGOJbgwoZxO"
      }
    },
    {
      "cell_type": "code",
      "source": [
        "#Basic of Programming. It always starts with this.\n",
        "print('Hello World')"
      ],
      "metadata": {
        "colab": {
          "base_uri": "https://localhost:8080/"
        },
        "id": "MUURhMX0oZR0",
        "outputId": "d1239949-403e-4100-bbbf-d93d804409ff"
      },
      "execution_count": 1,
      "outputs": [
        {
          "output_type": "stream",
          "name": "stdout",
          "text": [
            "Hello World\n"
          ]
        }
      ]
    },
    {
      "cell_type": "markdown",
      "source": [
        "# String"
      ],
      "metadata": {
        "id": "A5FOUlmCokzH"
      }
    },
    {
      "cell_type": "code",
      "source": [
        "#any character or number within single or double quotes\n",
        "\n",
        "string_a = 'Artificial Intelligence'\n",
        "string_a"
      ],
      "metadata": {
        "colab": {
          "base_uri": "https://localhost:8080/",
          "height": 36
        },
        "id": "6d49-KO9ojf9",
        "outputId": "0492e3bb-f59c-4ddf-adc8-412d39300e1f"
      },
      "execution_count": 2,
      "outputs": [
        {
          "output_type": "execute_result",
          "data": {
            "text/plain": [
              "'Artificial Intelligence'"
            ],
            "application/vnd.google.colaboratory.intrinsic+json": {
              "type": "string"
            }
          },
          "metadata": {},
          "execution_count": 2
        }
      ]
    },
    {
      "cell_type": "code",
      "source": [
        "string_b = \"Machine Learning\"\n",
        "string_b"
      ],
      "metadata": {
        "colab": {
          "base_uri": "https://localhost:8080/",
          "height": 36
        },
        "id": "tJ6Lt4E1o98o",
        "outputId": "44341015-bcae-489c-97a7-9deabb8d8b1a"
      },
      "execution_count": 3,
      "outputs": [
        {
          "output_type": "execute_result",
          "data": {
            "text/plain": [
              "'Machine Learning'"
            ],
            "application/vnd.google.colaboratory.intrinsic+json": {
              "type": "string"
            }
          },
          "metadata": {},
          "execution_count": 3
        }
      ]
    },
    {
      "cell_type": "code",
      "source": [
        "#3rd method. whats the use of using single and double quotes when we can use only single. Its always good practice to use a combination of single and double quotes to avoid issues in code.\n",
        "#ex: 'London' vs \"London's\"\n",
        "\n",
        "string_c = \"London's\"\n",
        "string_c"
      ],
      "metadata": {
        "colab": {
          "base_uri": "https://localhost:8080/",
          "height": 36
        },
        "id": "1k6xKGFdo_XV",
        "outputId": "0e850106-f7d2-44d9-bc64-d26108f2b6e0"
      },
      "execution_count": 4,
      "outputs": [
        {
          "output_type": "execute_result",
          "data": {
            "text/plain": [
              "\"London's\""
            ],
            "application/vnd.google.colaboratory.intrinsic+json": {
              "type": "string"
            }
          },
          "metadata": {},
          "execution_count": 4
        }
      ]
    },
    {
      "cell_type": "markdown",
      "source": [
        "# Variable Assignment"
      ],
      "metadata": {
        "id": "gPxlpS0PnArp"
      }
    },
    {
      "cell_type": "code",
      "source": [
        "# It is a container where you can store data. Take for example a book storing box. A book that you are going to store in the box is the data and the container is the variable.\n",
        "\n",
        "#A is the variable/container\n",
        "\n",
        "a = 'abc'\n",
        "a"
      ],
      "metadata": {
        "colab": {
          "base_uri": "https://localhost:8080/",
          "height": 36
        },
        "id": "UVKTOEGinJUE",
        "outputId": "fe60b295-b8b3-43ce-849b-70ba41b342fd"
      },
      "execution_count": 5,
      "outputs": [
        {
          "output_type": "execute_result",
          "data": {
            "text/plain": [
              "'abc'"
            ],
            "application/vnd.google.colaboratory.intrinsic+json": {
              "type": "string"
            }
          },
          "metadata": {},
          "execution_count": 5
        }
      ]
    },
    {
      "cell_type": "markdown",
      "source": [
        "# List , Tuple and Dictionary"
      ],
      "metadata": {
        "id": "hRY9WFL3l35b"
      }
    },
    {
      "cell_type": "code",
      "execution_count": 6,
      "metadata": {
        "colab": {
          "base_uri": "https://localhost:8080/"
        },
        "id": "cpGULPjKl1IT",
        "outputId": "ee6c8229-00f7-41b7-d521-5a885ec942e1"
      },
      "outputs": [
        {
          "output_type": "stream",
          "name": "stdout",
          "text": [
            "['England', 'Scotland', 'Wales', 'Northern Ireland']\n"
          ]
        }
      ],
      "source": [
        "#List is mutable and can be changed with data manupulation operations such as add and remove.\n",
        "uk= ['England', 'Scotland','Wales', 'Northern Ireland']\n",
        "\n",
        "print(uk)"
      ]
    },
    {
      "cell_type": "code",
      "source": [
        "#dict it has key and value pairs mutable again\n",
        "\n",
        "capitals = {'England':'London','Scotland':'Edinburgh','Wales':'Cardiff','Northern Ireland':'Belfast'}\n",
        "print(capitals)"
      ],
      "metadata": {
        "colab": {
          "base_uri": "https://localhost:8080/"
        },
        "id": "tVnS8DvVmD2K",
        "outputId": "a2928cc2-ded8-4c80-8a24-dc96b1718f5c"
      },
      "execution_count": 7,
      "outputs": [
        {
          "output_type": "stream",
          "name": "stdout",
          "text": [
            "{'England': 'London', 'Scotland': 'Edinburgh', 'Wales': 'Cardiff', 'Northern Ireland': 'Belfast'}\n"
          ]
        }
      ]
    },
    {
      "cell_type": "code",
      "source": [
        "#Tuples is immutable and cannot be changed with data manipulation ops\n",
        "\n",
        "universities = ('Cardiff','LSE','Cambridge','Oxford')\n",
        "print(universities)"
      ],
      "metadata": {
        "colab": {
          "base_uri": "https://localhost:8080/"
        },
        "id": "4RefPkwumhlU",
        "outputId": "2f885614-4a9c-4206-ac72-df73f0557e09"
      },
      "execution_count": 8,
      "outputs": [
        {
          "output_type": "stream",
          "name": "stdout",
          "text": [
            "('Cardiff', 'LSE', 'Cambridge', 'Oxford')\n"
          ]
        }
      ]
    },
    {
      "cell_type": "markdown",
      "source": [
        "# Indexing\n"
      ],
      "metadata": {
        "id": "xISy3KqTp2L9"
      }
    },
    {
      "cell_type": "code",
      "source": [
        "#Indexing in List\n",
        "\n",
        "print(uk)\n",
        "\n",
        "uk[2]"
      ],
      "metadata": {
        "colab": {
          "base_uri": "https://localhost:8080/",
          "height": 53
        },
        "id": "3E3rhDkXmJOk",
        "outputId": "5965dbc9-19ef-4986-e861-1217052c9fce"
      },
      "execution_count": 9,
      "outputs": [
        {
          "output_type": "stream",
          "name": "stdout",
          "text": [
            "['England', 'Scotland', 'Wales', 'Northern Ireland']\n"
          ]
        },
        {
          "output_type": "execute_result",
          "data": {
            "text/plain": [
              "'Wales'"
            ],
            "application/vnd.google.colaboratory.intrinsic+json": {
              "type": "string"
            }
          },
          "metadata": {},
          "execution_count": 9
        }
      ]
    },
    {
      "cell_type": "code",
      "source": [
        "#indexing in Dict\n",
        "# As Dict has no indexes we need to use the key values for references.\n",
        "\n",
        "print(capitals)\n",
        "\n",
        "capitals['Wales']"
      ],
      "metadata": {
        "colab": {
          "base_uri": "https://localhost:8080/",
          "height": 53
        },
        "id": "xYAff88UqRxY",
        "outputId": "30e944aa-8f83-4d4f-9db7-3e5af8165c8b"
      },
      "execution_count": 10,
      "outputs": [
        {
          "output_type": "stream",
          "name": "stdout",
          "text": [
            "{'England': 'London', 'Scotland': 'Edinburgh', 'Wales': 'Cardiff', 'Northern Ireland': 'Belfast'}\n"
          ]
        },
        {
          "output_type": "execute_result",
          "data": {
            "text/plain": [
              "'Cardiff'"
            ],
            "application/vnd.google.colaboratory.intrinsic+json": {
              "type": "string"
            }
          },
          "metadata": {},
          "execution_count": 10
        }
      ]
    },
    {
      "cell_type": "code",
      "source": [
        "#indexing in Tuples\n",
        "\n",
        "print(universities)\n",
        "\n",
        "universities[0]"
      ],
      "metadata": {
        "colab": {
          "base_uri": "https://localhost:8080/",
          "height": 53
        },
        "id": "m60ge8jiqsZk",
        "outputId": "f6028e0a-5ab0-478c-fa16-875d6f3fd9c4"
      },
      "execution_count": 11,
      "outputs": [
        {
          "output_type": "stream",
          "name": "stdout",
          "text": [
            "('Cardiff', 'LSE', 'Cambridge', 'Oxford')\n"
          ]
        },
        {
          "output_type": "execute_result",
          "data": {
            "text/plain": [
              "'Cardiff'"
            ],
            "application/vnd.google.colaboratory.intrinsic+json": {
              "type": "string"
            }
          },
          "metadata": {},
          "execution_count": 11
        }
      ]
    },
    {
      "cell_type": "markdown",
      "source": [
        "# Slicing\n",
        "\n",
        "It is used to access an element in a list, tuple or string"
      ],
      "metadata": {
        "id": "XdEmRwMvq_3w"
      }
    },
    {
      "cell_type": "code",
      "source": [
        "#Python always starts from zero. One more thing is that python does not include the last number of index or element when asked for.\n",
        "#Ex uk[0:3]- starts from England since its zero but stops at wales tho the index is until 3 (Northern Ireland) which technically should be included.\n",
        "print(uk)\n",
        "uk[0:3]"
      ],
      "metadata": {
        "colab": {
          "base_uri": "https://localhost:8080/"
        },
        "id": "_LtvU2SurSor",
        "outputId": "ec2c3d53-57ea-48ed-d2a5-af500d4b107f"
      },
      "execution_count": 12,
      "outputs": [
        {
          "output_type": "stream",
          "name": "stdout",
          "text": [
            "['England', 'Scotland', 'Wales', 'Northern Ireland']\n"
          ]
        },
        {
          "output_type": "execute_result",
          "data": {
            "text/plain": [
              "['England', 'Scotland', 'Wales']"
            ]
          },
          "metadata": {},
          "execution_count": 12
        }
      ]
    },
    {
      "cell_type": "code",
      "source": [
        "#Same concept as above\n",
        "print(universities)\n",
        "\n",
        "universities[0:2]"
      ],
      "metadata": {
        "colab": {
          "base_uri": "https://localhost:8080/"
        },
        "id": "OCIDzRvlret5",
        "outputId": "2691d337-e443-4f3b-8ea2-497fcfa5d316"
      },
      "execution_count": 13,
      "outputs": [
        {
          "output_type": "stream",
          "name": "stdout",
          "text": [
            "('Cardiff', 'LSE', 'Cambridge', 'Oxford')\n"
          ]
        },
        {
          "output_type": "execute_result",
          "data": {
            "text/plain": [
              "('Cardiff', 'LSE')"
            ]
          },
          "metadata": {},
          "execution_count": 13
        }
      ]
    },
    {
      "cell_type": "markdown",
      "source": [
        "# Print Formatting\n",
        "\n",
        "It is used to print out an element using the .format method and the F-string literal"
      ],
      "metadata": {
        "id": "KApCp7m_sZsD"
      }
    },
    {
      "cell_type": "code",
      "source": [
        "#defining within the format statement\n",
        "#It is denoted by .format()\n",
        "print('My name is Pilot {0} {1}'.format('Pilot','Pilot'))"
      ],
      "metadata": {
        "colab": {
          "base_uri": "https://localhost:8080/"
        },
        "id": "1pYp2cANs0_W",
        "outputId": "ff4e29c8-d903-4d87-a5f5-eb4934fab206"
      },
      "execution_count": 14,
      "outputs": [
        {
          "output_type": "stream",
          "name": "stdout",
          "text": [
            "My name is Pilot Pilot Pilot\n"
          ]
        }
      ]
    },
    {
      "cell_type": "code",
      "source": [
        "print('I am a student at a {c} {u}'.format(c='UK',u='university'))"
      ],
      "metadata": {
        "colab": {
          "base_uri": "https://localhost:8080/"
        },
        "id": "3Cgj7vHHs7uS",
        "outputId": "a6c98d09-dfbf-4c69-d6b7-f6370e8c3a11"
      },
      "execution_count": 15,
      "outputs": [
        {
          "output_type": "stream",
          "name": "stdout",
          "text": [
            "I am a student at a UK university\n"
          ]
        }
      ]
    },
    {
      "cell_type": "code",
      "source": [
        "#print formatting using string and list. Same can be implemented for tuple and Dict\n",
        "\n",
        "print('The field of {a} is changing the world \\n'.format(a=string_a))\n",
        "\n",
        "print('{m} a type of artificial intelligence that enables self-learning \\nfrom data and then applies that learning without the need for human intervention.'.format(m=string_b))"
      ],
      "metadata": {
        "colab": {
          "base_uri": "https://localhost:8080/"
        },
        "id": "OiZKX5KvB9Xn",
        "outputId": "755b7550-78fe-4de2-f4ba-084f1539cae0"
      },
      "execution_count": 16,
      "outputs": [
        {
          "output_type": "stream",
          "name": "stdout",
          "text": [
            "The field of Artificial Intelligence is changing the world \n",
            "\n",
            "Machine Learning a type of artificial intelligence that enables self-learning \n",
            "from data and then applies that learning without the need for human intervention.\n"
          ]
        }
      ]
    },
    {
      "cell_type": "markdown",
      "source": [
        "F String Literal"
      ],
      "metadata": {
        "id": "SkrIEqeM_FxU"
      }
    },
    {
      "cell_type": "code",
      "source": [
        "#It is the same as the above method but shorter lines of code. Better for coding efficiency.\n",
        "# It is denoted by 'f' infrong of the print statment\n",
        "#Use \"\" Quotes inside curly braces.\n",
        "\n",
        "print(f'I live in the {\"United Kingdom\"} and study at a {\"UK\"} {\"Univesity\"}')"
      ],
      "metadata": {
        "colab": {
          "base_uri": "https://localhost:8080/"
        },
        "id": "QBhPwWVNtWxP",
        "outputId": "6c196c4e-f417-438d-f7f7-554af4c2e382"
      },
      "execution_count": 17,
      "outputs": [
        {
          "output_type": "stream",
          "name": "stdout",
          "text": [
            "I live in the United Kingdom and study at a UK Univesity\n"
          ]
        }
      ]
    },
    {
      "cell_type": "markdown",
      "source": [
        "# Sets"
      ],
      "metadata": {
        "id": "FKuinsi1EUhC"
      }
    },
    {
      "cell_type": "code",
      "source": [
        "# A set of Unique Elements is called a set\n",
        "\n",
        "#Its mutable where data manipulation can be performed in it\n",
        "\n",
        "#Its displays as a dictionary\n",
        "\n",
        "a = ('Parallel')\n",
        "\n",
        "set(a)"
      ],
      "metadata": {
        "colab": {
          "base_uri": "https://localhost:8080/"
        },
        "id": "57RXp4YEENZ8",
        "outputId": "6e5bdc44-caa2-4dea-c86d-0b196191a7d7"
      },
      "execution_count": 18,
      "outputs": [
        {
          "output_type": "execute_result",
          "data": {
            "text/plain": [
              "{'P', 'a', 'e', 'l', 'r'}"
            ]
          },
          "metadata": {},
          "execution_count": 18
        }
      ]
    },
    {
      "cell_type": "code",
      "source": [
        "#Frozen Set\n",
        "\n",
        "#Its immutable where data manipulation cant be perfomed.\n",
        "\n",
        "#It displays as a tuple\n",
        "\n",
        "b = ['Mississippi']\n",
        "\n",
        "frozenset(b)"
      ],
      "metadata": {
        "colab": {
          "base_uri": "https://localhost:8080/"
        },
        "id": "tfJrv3cyEgjL",
        "outputId": "51fc3b2c-0e92-460d-a04d-deb38f62d4b2"
      },
      "execution_count": 19,
      "outputs": [
        {
          "output_type": "execute_result",
          "data": {
            "text/plain": [
              "frozenset({'Mississippi'})"
            ]
          },
          "metadata": {},
          "execution_count": 19
        }
      ]
    },
    {
      "cell_type": "markdown",
      "source": [
        "# Data Manipulation"
      ],
      "metadata": {
        "id": "UcaI4TZ5FV9T"
      }
    },
    {
      "cell_type": "code",
      "source": [
        "#Used to add a value into a list or Dict\n",
        "uk.append('India')\n",
        "print(uk)"
      ],
      "metadata": {
        "colab": {
          "base_uri": "https://localhost:8080/"
        },
        "id": "Ve0Sh8yGEg31",
        "outputId": "62f307c3-9d9f-4534-f801-beef47481447"
      },
      "execution_count": 20,
      "outputs": [
        {
          "output_type": "stream",
          "name": "stdout",
          "text": [
            "['England', 'Scotland', 'Wales', 'Northern Ireland', 'India']\n"
          ]
        }
      ]
    },
    {
      "cell_type": "code",
      "source": [
        "#pops the last value if no index is specified\n",
        "uk.pop()\n",
        "print(uk)"
      ],
      "metadata": {
        "colab": {
          "base_uri": "https://localhost:8080/"
        },
        "id": "Y-zazxCzGv04",
        "outputId": "b636515e-ce6c-47ad-b398-0a4c307b7fb2"
      },
      "execution_count": 21,
      "outputs": [
        {
          "output_type": "stream",
          "name": "stdout",
          "text": [
            "['England', 'Scotland', 'Wales', 'Northern Ireland']\n"
          ]
        }
      ]
    },
    {
      "cell_type": "code",
      "source": [
        "#Used to remove value from Dict\n",
        "uk.remove('India')"
      ],
      "metadata": {
        "id": "RU0JV2TdFxY2"
      },
      "execution_count": 38,
      "outputs": []
    },
    {
      "cell_type": "code",
      "source": [
        "#Pops using index\n",
        "uk.pop(0)\n",
        "print(uk)"
      ],
      "metadata": {
        "colab": {
          "base_uri": "https://localhost:8080/"
        },
        "id": "iGIIWf5AF7VV",
        "outputId": "b001e2bf-06d4-4be0-ca21-19203d7ca66b"
      },
      "execution_count": 22,
      "outputs": [
        {
          "output_type": "stream",
          "name": "stdout",
          "text": [
            "['Scotland', 'Wales', 'Northern Ireland']\n"
          ]
        }
      ]
    },
    {
      "cell_type": "code",
      "source": [
        "#.upper()\n",
        "temp_stri = 'Aircrafts are beautiful Machines'\n",
        "\n",
        "temp_stri.upper()\n"
      ],
      "metadata": {
        "colab": {
          "base_uri": "https://localhost:8080/",
          "height": 36
        },
        "id": "6ZyI3AxuG9qP",
        "outputId": "986462ac-56c4-4c4d-ec4b-e07303e7127d"
      },
      "execution_count": 27,
      "outputs": [
        {
          "output_type": "execute_result",
          "data": {
            "text/plain": [
              "'AIRCRAFTS ARE BEAUTIFUL MACHINES'"
            ],
            "application/vnd.google.colaboratory.intrinsic+json": {
              "type": "string"
            }
          },
          "metadata": {},
          "execution_count": 27
        }
      ]
    },
    {
      "cell_type": "code",
      "source": [
        "#.lower()\n",
        "temp_stri.lower()"
      ],
      "metadata": {
        "colab": {
          "base_uri": "https://localhost:8080/",
          "height": 36
        },
        "id": "FdZMxLBXHMEk",
        "outputId": "94a1702f-6fae-4a79-c6a9-9f28a29e3040"
      },
      "execution_count": 28,
      "outputs": [
        {
          "output_type": "execute_result",
          "data": {
            "text/plain": [
              "'aircrafts are beautiful machines'"
            ],
            "application/vnd.google.colaboratory.intrinsic+json": {
              "type": "string"
            }
          },
          "metadata": {},
          "execution_count": 28
        }
      ]
    },
    {
      "cell_type": "code",
      "source": [
        "#Used to capitalize\n",
        "temp_stri.capitalize()"
      ],
      "metadata": {
        "colab": {
          "base_uri": "https://localhost:8080/",
          "height": 36
        },
        "id": "VNsKemrbHUJe",
        "outputId": "aae84559-5344-44e6-9c42-2977c8be6fa5"
      },
      "execution_count": 29,
      "outputs": [
        {
          "output_type": "execute_result",
          "data": {
            "text/plain": [
              "'Aircrafts are beautiful machines'"
            ],
            "application/vnd.google.colaboratory.intrinsic+json": {
              "type": "string"
            }
          },
          "metadata": {},
          "execution_count": 29
        }
      ]
    },
    {
      "cell_type": "code",
      "source": [
        "#used to split text/string .split() and .reverse() used to reverse the string.\n",
        "\n",
        "temp_final = temp_stri.split()\n",
        "\n",
        "temp_final.reverse()\n",
        "\n",
        "print(temp_final)"
      ],
      "metadata": {
        "colab": {
          "base_uri": "https://localhost:8080/"
        },
        "id": "7Zfj8ciAHcs1",
        "outputId": "165f5595-a169-44df-af2b-aa7e01b25891"
      },
      "execution_count": 30,
      "outputs": [
        {
          "output_type": "stream",
          "name": "stdout",
          "text": [
            "['Machines', 'beautiful', 'are', 'Aircrafts']\n"
          ]
        }
      ]
    },
    {
      "cell_type": "markdown",
      "source": [
        "# Comparison & Logical Operators\n"
      ],
      "metadata": {
        "id": "YOpk0Ya6Ikis"
      }
    },
    {
      "cell_type": "code",
      "source": [
        "# ==,>=,<=,!=,\n",
        "# It returns boolean- True or False\n",
        "\n",
        "1 > 2"
      ],
      "metadata": {
        "colab": {
          "base_uri": "https://localhost:8080/"
        },
        "id": "MhPuQtIHIAZQ",
        "outputId": "337c4552-37d0-4a90-a3ff-9fc96b7a2b4c"
      },
      "execution_count": 31,
      "outputs": [
        {
          "output_type": "execute_result",
          "data": {
            "text/plain": [
              "False"
            ]
          },
          "metadata": {},
          "execution_count": 31
        }
      ]
    },
    {
      "cell_type": "code",
      "source": [
        "10 == 10"
      ],
      "metadata": {
        "colab": {
          "base_uri": "https://localhost:8080/"
        },
        "id": "ny6fhns_Jf42",
        "outputId": "bbafba4f-d461-4219-bfce-758b01e2fe84"
      },
      "execution_count": null,
      "outputs": [
        {
          "output_type": "execute_result",
          "data": {
            "text/plain": [
              "True"
            ]
          },
          "metadata": {},
          "execution_count": 128
        }
      ]
    },
    {
      "cell_type": "code",
      "source": [
        "10 > 8"
      ],
      "metadata": {
        "colab": {
          "base_uri": "https://localhost:8080/"
        },
        "id": "kCWpzXfnJkDS",
        "outputId": "487b1860-eeaf-479c-fc6c-e948f6aa132c"
      },
      "execution_count": null,
      "outputs": [
        {
          "output_type": "execute_result",
          "data": {
            "text/plain": [
              "True"
            ]
          },
          "metadata": {},
          "execution_count": 129
        }
      ]
    },
    {
      "cell_type": "code",
      "source": [
        "3 != 3"
      ],
      "metadata": {
        "colab": {
          "base_uri": "https://localhost:8080/"
        },
        "id": "Rp5J172zJdOz",
        "outputId": "0f3e7754-84cf-4a32-a8eb-b45a5a41bfe8"
      },
      "execution_count": null,
      "outputs": [
        {
          "output_type": "execute_result",
          "data": {
            "text/plain": [
              "False"
            ]
          },
          "metadata": {},
          "execution_count": 127
        }
      ]
    },
    {
      "cell_type": "code",
      "source": [
        "#Logical Operator and and or\n",
        "\n",
        "# For and operator both conditions should be fullfiled\n",
        "\n",
        "10 == 10 and 11 > 8\n"
      ],
      "metadata": {
        "colab": {
          "base_uri": "https://localhost:8080/"
        },
        "id": "7JTrdLJeJp3k",
        "outputId": "ba777c87-77b9-4618-dd7c-3ba353dcaa87"
      },
      "execution_count": null,
      "outputs": [
        {
          "output_type": "execute_result",
          "data": {
            "text/plain": [
              "True"
            ]
          },
          "metadata": {},
          "execution_count": 131
        }
      ]
    },
    {
      "cell_type": "code",
      "source": [
        "#for or operator any one condition should be fulfilled.\n",
        "11 == 10 or 10 == 10"
      ],
      "metadata": {
        "colab": {
          "base_uri": "https://localhost:8080/"
        },
        "id": "GOcD4DR0KXhb",
        "outputId": "c23d2c52-6dff-44a2-eb36-f79bb61a7b35"
      },
      "execution_count": null,
      "outputs": [
        {
          "output_type": "execute_result",
          "data": {
            "text/plain": [
              "True"
            ]
          },
          "metadata": {},
          "execution_count": 134
        }
      ]
    },
    {
      "cell_type": "markdown",
      "source": [
        "# Important Control flow and Loops.\n",
        "\n",
        "if-else statment\n",
        "for loop\n",
        "while loop"
      ],
      "metadata": {
        "id": "RKNVWOO8Klda"
      }
    },
    {
      "cell_type": "code",
      "source": [
        "#if statement is a control flow command.\n",
        "#Indentation is very important\n",
        "\n",
        "#if-else, if-elif-else etc..\n",
        "\n",
        "#If a certain condition is true move to the result.\n",
        "\n",
        "prog_1 = int(input('Enter a number'))\n",
        "\n",
        "if prog_1 % 2 == 0:\n",
        "  print(f'The number {prog_1} is even')\n",
        "else:\n",
        "  print(f'The number {prog_1} is odd')"
      ],
      "metadata": {
        "colab": {
          "base_uri": "https://localhost:8080/"
        },
        "id": "rRH4YXa5Kh8A",
        "outputId": "833810c4-572b-4f79-8304-c2f15eb8e99f"
      },
      "execution_count": null,
      "outputs": [
        {
          "output_type": "stream",
          "name": "stdout",
          "text": [
            "Enter a number2\n",
            "The number 2 is even\n"
          ]
        }
      ]
    },
    {
      "cell_type": "code",
      "source": [
        "#same program without input command\n",
        "\n",
        "prog_2 = 2\n",
        "\n",
        "if prog_2 % 2 == 0:\n",
        "  print(f'The number {prog_1} is even')\n",
        "else:\n",
        "  print(f'The number {prog_1} is odd')"
      ],
      "metadata": {
        "colab": {
          "base_uri": "https://localhost:8080/"
        },
        "id": "FXeQHhqjLmBZ",
        "outputId": "20367a7e-8988-4740-e5a6-a1852f2ce677"
      },
      "execution_count": null,
      "outputs": [
        {
          "output_type": "stream",
          "name": "stdout",
          "text": [
            "The number 2 is even\n"
          ]
        }
      ]
    },
    {
      "cell_type": "code",
      "source": [
        "# For Loop\n",
        "#Iterate over each and every number.\n",
        "#You should use loops when multiple numbers are there. for single number use control flow only.\n",
        "\n",
        "prog_3 = [1,2,3,4,5,6,7,8,9,10]\n",
        "\n",
        "for num in prog_3:\n",
        "  if num % 2 == 0:\n",
        "    print(f'The number {num} is even')\n",
        "  else:\n",
        "    print(f'The number {num} is odd')"
      ],
      "metadata": {
        "colab": {
          "base_uri": "https://localhost:8080/"
        },
        "id": "_YyRar3pL5Po",
        "outputId": "70910ea7-9618-4b50-e259-edc02033298a"
      },
      "execution_count": null,
      "outputs": [
        {
          "output_type": "stream",
          "name": "stdout",
          "text": [
            "The number 1 is odd\n",
            "The number 2 is even\n",
            "The number 3 is odd\n",
            "The number 4 is even\n",
            "The number 5 is odd\n",
            "The number 6 is even\n",
            "The number 7 is odd\n",
            "The number 8 is even\n",
            "The number 9 is odd\n",
            "The number 10 is even\n"
          ]
        }
      ]
    },
    {
      "cell_type": "code",
      "source": [
        "#Amrit or any value specified after for is a placeholder. it can be anything you like.\n",
        "for amrit in range(0,10):\n",
        "  print('amrit')"
      ],
      "metadata": {
        "colab": {
          "base_uri": "https://localhost:8080/"
        },
        "id": "hVeg6W6uOdGj",
        "outputId": "d17c0bde-d407-45b1-925a-113f15cbe499"
      },
      "execution_count": null,
      "outputs": [
        {
          "output_type": "stream",
          "name": "stdout",
          "text": [
            "amrit\n",
            "amrit\n",
            "amrit\n",
            "amrit\n",
            "amrit\n",
            "amrit\n",
            "amrit\n",
            "amrit\n",
            "amrit\n",
            "amrit\n"
          ]
        }
      ]
    },
    {
      "cell_type": "code",
      "source": [
        "for amrit in range(0,100,7):\n",
        "  print(amrit)"
      ],
      "metadata": {
        "colab": {
          "base_uri": "https://localhost:8080/"
        },
        "id": "5LjjGzFWO2zm",
        "outputId": "8966c381-f298-4f37-a60f-d4ee9cf8aa89"
      },
      "execution_count": null,
      "outputs": [
        {
          "output_type": "stream",
          "name": "stdout",
          "text": [
            "0\n",
            "7\n",
            "14\n",
            "21\n",
            "28\n",
            "35\n",
            "42\n",
            "49\n",
            "56\n",
            "63\n",
            "70\n",
            "77\n",
            "84\n",
            "91\n",
            "98\n"
          ]
        }
      ]
    },
    {
      "cell_type": "code",
      "source": [
        "# While Loop.\n",
        "# Used to iterate over and over until a certain condition is false.\n",
        "\n",
        "prog_5 = 0\n",
        "\n",
        "while prog_5 <= 10:\n",
        "  print(f'The value is {prog_5}')\n",
        "\n",
        "  prog_5 += 1"
      ],
      "metadata": {
        "colab": {
          "base_uri": "https://localhost:8080/"
        },
        "id": "exj1vg6UPKKt",
        "outputId": "d614018f-e0d9-4eaa-dd45-7b91e43dad6a"
      },
      "execution_count": null,
      "outputs": [
        {
          "output_type": "stream",
          "name": "stdout",
          "text": [
            "The value is 0\n",
            "The value is 1\n",
            "The value is 2\n",
            "The value is 3\n",
            "The value is 4\n",
            "The value is 5\n",
            "The value is 6\n",
            "The value is 7\n",
            "The value is 8\n",
            "The value is 9\n",
            "The value is 10\n"
          ]
        }
      ]
    },
    {
      "cell_type": "markdown",
      "source": [
        "# Functions"
      ],
      "metadata": {
        "id": "6Jph_aI2terV"
      }
    },
    {
      "cell_type": "code",
      "source": [
        "#Initated using the def keyword\n",
        "#In Python, a function is a reusable block of code that performs a specific task or set of tasks.\n",
        "#Its recommended to use snake casing for functions accroding to pep8.\n",
        "\n",
        "def even_or_odd(a):\n",
        "  result = a % 2 == 0\n",
        "  return result\n",
        "\n",
        "even_or_odd(2)\n"
      ],
      "metadata": {
        "colab": {
          "base_uri": "https://localhost:8080/"
        },
        "id": "6H86i3R_suD2",
        "outputId": "c85a6ee3-4176-43ea-f1d8-b6fabc9f0470"
      },
      "execution_count": null,
      "outputs": [
        {
          "output_type": "execute_result",
          "data": {
            "text/plain": [
              "True"
            ]
          },
          "metadata": {},
          "execution_count": 9
        }
      ]
    },
    {
      "cell_type": "code",
      "source": [
        "#making code efficient by using return on the operation directly than assiging it to a temp variable\n",
        "def even_or_odd(a):\n",
        "  return a % 2 == 0\n",
        "\n",
        "even_or_odd(2)\n"
      ],
      "metadata": {
        "colab": {
          "base_uri": "https://localhost:8080/"
        },
        "id": "ZSN27n5cuiJL",
        "outputId": "592efb6c-ad20-46fa-e6b7-171106c93a75"
      },
      "execution_count": null,
      "outputs": [
        {
          "output_type": "execute_result",
          "data": {
            "text/plain": [
              "True"
            ]
          },
          "metadata": {},
          "execution_count": 11
        }
      ]
    },
    {
      "cell_type": "code",
      "source": [
        "#definining a function\n",
        "def even_check(number_list):\n",
        "\n",
        "  even_list = [] #place holder variable\n",
        "  for num in number_list:\n",
        "    if num % 2 == 0:\n",
        "      even_list.append(num)\n",
        "    else:\n",
        "      pass #do nothing\n",
        "  return even_list #breakout and return the value to the placeholder.\n",
        "\n",
        "even_check([1,2,3,4,5,6,7,8,9,10])"
      ],
      "metadata": {
        "colab": {
          "base_uri": "https://localhost:8080/"
        },
        "id": "jTNKwEnGwCCX",
        "outputId": "0aaa0ceb-839f-41e9-f9c3-45b4555b4813"
      },
      "execution_count": null,
      "outputs": [
        {
          "output_type": "execute_result",
          "data": {
            "text/plain": [
              "[2, 4, 6, 8, 10]"
            ]
          },
          "metadata": {},
          "execution_count": 17
        }
      ]
    },
    {
      "cell_type": "code",
      "source": [
        "work_hours = [('abby',100),('billy',4000),('cassie',800)]\n",
        "\n",
        "def employee_check_year(work_hours):\n",
        "\n",
        "    max_hours = 0\n",
        "    employee_of_month = ''\n",
        "\n",
        "    for employee,hours in work_hours:\n",
        "      if hours > max_hours:\n",
        "        max_hours = hours\n",
        "        employee_of_month = employee\n",
        "      else:\n",
        "        pass\n",
        "\n",
        "\n",
        "    return (employee_of_month,max_hours)\n",
        "\n",
        "employee_check_year(work_hours)\n"
      ],
      "metadata": {
        "colab": {
          "base_uri": "https://localhost:8080/"
        },
        "id": "49x4n2Fp16ft",
        "outputId": "24de1800-8203-4c7b-d0e1-80f3623862d3"
      },
      "execution_count": null,
      "outputs": [
        {
          "output_type": "execute_result",
          "data": {
            "text/plain": [
              "('billy', 4000)"
            ]
          },
          "metadata": {},
          "execution_count": 25
        }
      ]
    }
  ]
}
