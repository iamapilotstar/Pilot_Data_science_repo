{
  "nbformat": 4,
  "nbformat_minor": 0,
  "metadata": {
    "colab": {
      "provenance": []
    },
    "kernelspec": {
      "name": "python3",
      "display_name": "Python 3"
    },
    "language_info": {
      "name": "python"
    }
  },
  "cells": [
    {
      "cell_type": "markdown",
      "source": [
        "### Importing Libraries"
      ],
      "metadata": {
        "id": "Y3Y7GGj0ifCO"
      }
    },
    {
      "cell_type": "code",
      "source": [
        "import numpy as np\n",
        "import pandas as pd\n",
        "import re\n",
        "import unicodedata"
      ],
      "metadata": {
        "id": "Eu3YUIO7ieYl"
      },
      "execution_count": null,
      "outputs": []
    },
    {
      "cell_type": "markdown",
      "source": [
        "1. Write a function all_rounder(args) that performs passed sequence method of a\n",
        "given sequence. The inputs will be in form, e.g. all_rounder([1, 5], 'append', [3, 4, 2, 104]). This function should\n",
        "create a list variable to store [1, 5], then .append() the second list of [3, 4, 2, 104] to it. The final\n",
        "list should be returned and will be in a form of [1, 5, [3, 4, 2, 104]].\n",
        "The input argument storing variable args could include any kind of sequence types of str, list, tuple\n",
        "and dict. Depending on the passed sequence type, args should also include a method, and depending\n",
        "on the method some more entries.\n",
        "The function all_rounder() should only perform one operation at a time. Test cases will never pass\n",
        "more than one sequence type and more than one sequence method.\n",
        "Your function should return a message when a non-existing sequence method entered, and must not return\n",
        "an error."
      ],
      "metadata": {
        "id": "LnovQ-hzWHdJ"
      }
    },
    {
      "cell_type": "code",
      "execution_count": null,
      "metadata": {
        "id": "qVNoLoVLV24v"
      },
      "outputs": [],
      "source": [
        "def all_rounder(*args):\n",
        "    if isinstance(args[0], str):\n",
        "        sequence = args[0]\n",
        "    else:\n",
        "        sequence = eval(str(args[0]))\n",
        "\n",
        "    meth = args[1]\n",
        "\n",
        "    if isinstance(sequence, list):\n",
        "        seq_variable = list(sequence)\n",
        "    elif isinstance(sequence, tuple):\n",
        "        seq_variable = list(sequence)\n",
        "    elif isinstance(sequence, str):\n",
        "        seq_variable = sequence\n",
        "    elif isinstance(sequence, dict):\n",
        "        seq_variable = dict(sequence)\n",
        "    else:\n",
        "        return \"Invalid sequence type\"\n",
        "\n",
        "    if meth == 'append' and len(args) == 3:\n",
        "        seq_variable.append(eval(str(args[2])))\n",
        "    elif meth == 'insert' and len(args) == 4:\n",
        "        seq_variable.insert(eval(str(args[2])), eval(str(args[3])))\n",
        "    elif meth == 'extend' and len(args) == 3:\n",
        "        seq_variable.extend(eval(str(args[2])))\n",
        "    elif meth == 'join' and len(args) == 3:\n",
        "        seq_variable = seq_variable.join(eval(str(args[2])))\n",
        "    else:\n",
        "        return \"Invalid method\"\n",
        "\n",
        "    return seq_variable"
      ]
    },
    {
      "cell_type": "code",
      "source": [
        "# Question 1 - Test case 1\n",
        "print('Test case 1 output is',all_rounder([1, 7, 5], 'append', [3, 4, 2, 104]))\n",
        "# Test case 1 output is [1, 7, 5, [3, 4, 2, 104]]\n",
        "\n",
        "# Question 1 - Test case 2\n",
        "print('Test case 2 output is',all_rounder('#', 'join', \"('Jack', 'Mahmut')\"))\n",
        "#Test case 2 output is Jack#Mahmut"
      ],
      "metadata": {
        "colab": {
          "base_uri": "https://localhost:8080/"
        },
        "id": "84_FqmLYXCft",
        "outputId": "c09f707b-0de9-402b-aff5-8858c4f6d683"
      },
      "execution_count": null,
      "outputs": [
        {
          "output_type": "stream",
          "name": "stdout",
          "text": [
            "Test case 1 output is [1, 7, 5, [3, 4, 2, 104]]\n",
            "Test case 2 output is Jack#Mahmut\n"
          ]
        }
      ]
    },
    {
      "cell_type": "markdown",
      "source": [
        "2. Write a function padded_broadcasting(func, a, b, pad) that takes the arguments func, a, b and\n",
        "pad. Here a and b are the numpy arrays and func represents the arithmetic function (e.g. np.add). pad\n",
        "represents the number used for padding.\n",
        "For instance, if pad=2 then the smaller array gets padded with 2’s.\n",
        "The function returns a numpy ndarray which is the result of the operation func applied to the two arrays\n",
        "using appropriate padding. The solution needs to work with all basic mathematical operations, that is\n",
        "addition, subtraction, multiplication, division, and taking a power needs to be implemented.\n",
        "a and b can have a different number of dimensions.\n",
        "a and b can have mismatches on one, multiple, or even all dimensions, e.g. (6, 2, 3) and (5, 3, 2).\n",
        "You may have to pad a, or b, or both arrays. Do not apply any padding if it is not necessary i.e. when\n",
        "standard broadcasting works.\n",
        "The default argument for pad should be 1."
      ],
      "metadata": {
        "id": "ZX2N_9HQWVAl"
      }
    },
    {
      "cell_type": "code",
      "source": [
        "def padded_broadcasting(func, a, b, pad=1):\n",
        "    # Determine the shapes of arrays a and b\n",
        "    shape_a = np.array(a.shape)\n",
        "    shape_b = np.array(b.shape)\n",
        "\n",
        "    # Calculate the number of dimensions for broadcasting\n",
        "    dim_m = np.maximum(np.array(shape_a), np.array(shape_b))\n",
        "\n",
        "    # Calculate the padding required for each dimension\n",
        "    pad_a = np.maximum(0, dim_m - np.array(shape_a))\n",
        "    pad_b = np.maximum(0, dim_m - np.array(shape_b))\n",
        "\n",
        "    # Pad arrays a and b if necessary\n",
        "    padded_a = np.pad(a, [(0, pad_a[p]) for p in range(len(pad_a))], mode='constant', constant_values=pad)\n",
        "    padded_b = np.pad(b, [(0, pad_b[p]) for p in range(len(pad_b))], mode='constant', constant_values=pad)\n",
        "\n",
        "    # Perform the arithmetic operation using numpy broadcasting\n",
        "    result = func(padded_a, padded_b)\n",
        "\n",
        "    return result"
      ],
      "metadata": {
        "id": "gUE76by2V63s"
      },
      "execution_count": 1,
      "outputs": []
    },
    {
      "cell_type": "code",
      "source": [
        "# Question 2 - Test case 1\n",
        "a = np.asarray([[1,2],[-9, 4]])\n",
        "b = np.asarray([[3,4,5,6],[1,1,0,-5]])\n",
        "print(padded_broadcasting(np.add, a, b, -100))\n",
        "# [[   4.    6.  -95.  -94.]\n",
        "# [  -8.    5. -100. -105.]]"
      ],
      "metadata": {
        "colab": {
          "base_uri": "https://localhost:8080/"
        },
        "id": "V2T9LRybXDmC",
        "outputId": "0dacd9dd-5438-4db4-913b-962d36b5f7fb"
      },
      "execution_count": 2,
      "outputs": [
        {
          "output_type": "stream",
          "name": "stdout",
          "text": [
            "[[   4    6  -95  -94]\n",
            " [  -8    5 -100 -105]]\n"
          ]
        }
      ]
    },
    {
      "cell_type": "markdown",
      "source": [
        "3. Write a function txtanalyser(fname, t, f, sel) that takes a .txt file name (fname) of football com\u0002mentary as its input and performs various analyses for the target word (t).\n",
        "The developed txtanalyser(fname, t, f, sel) function is expected to load the .txt file via numpy\n",
        "functions (np.loadtxt()).\n",
        "The loaded file in fact has two columns for each line seperated by tabs: 'Minute' and 'Commentary'\n",
        "where the former refers to the minute in the game and the latter is the commentary in that minute. And\n",
        "example visual of your txt file is\n",
        "90 Joel Matip relieves the pressure with a clearance\n",
        "90 Emerson Royal puts in a cross...\n",
        "90 Safe hands from Hugo Lloris as he comes out and claims the ball\n",
        "Following this, the function should carry on funding each repetition of the target word t and perform\n",
        "calculation depending on the given (f, sel) pair:\n",
        "• Function f can be any numpy function and should be in form np., e.g. f = np.max.\n",
        "• if sel is 'count', then f should automatically be assigned to np.sum whatever passed for f as the\n",
        "function argument. Then, for this selection, your function should calculate the number of times the\n",
        "target word t appears in the commentary column of the txt file.\n",
        "• if sel is 'find', then your function should calculate the passed f function for the minutes column\n",
        "of the txt file. Hint: Average minutes where ‘RED-CARD’ word was in the commentary –> f is\n",
        "np.mean and t is 'RED-CARD'.\n",
        "Rules: - Using file I/O functions is not permitted - Using pandas for data handling and processing is\n",
        "not permitted."
      ],
      "metadata": {
        "id": "VPOGYTpRWsz5"
      }
    },
    {
      "cell_type": "code",
      "source": [
        "def txtanalyser(fname, target, f, sel):\n",
        "    # Load the data from the txt file using numpy\n",
        "    data = np.loadtxt(fname, dtype=str, delimiter='\\t', skiprows=1)\n",
        "\n",
        "\n",
        "    # Extract the 'Minute' and 'Commentary' columns\n",
        "    mins= data[:, 0].astype(float)\n",
        "    coms = data[:, 1]\n",
        "\n",
        "    # Perform analysis based on the selection (sel) and function (f)\n",
        "    if sel == 'count':\n",
        "        count = 0\n",
        "        for elements in range(len(coms)):\n",
        "          tk = coms[elements].split()\n",
        "          if target in tk:\n",
        "            count +=1\n",
        "        final_result = count\n",
        "\n",
        "\n",
        "    elif sel == 'find':\n",
        "        # Find indices where the target word appears in the commentary\n",
        "        list_grab = []\n",
        "        for element in range(len(coms)):\n",
        "          tk = coms[element].split()\n",
        "          if target in tk:\n",
        "            list_grab.append(mins[element])\n",
        "\n",
        "        final_result = f(list_grab)\n",
        "\n",
        "    return final_result"
      ],
      "metadata": {
        "id": "_twky_FEV_Z3"
      },
      "execution_count": null,
      "outputs": []
    },
    {
      "cell_type": "code",
      "source": [
        "# Question 3 - Test case 1\n",
        "print(txtanalyser('commentary.txt', 'RED-CARD!', np.mean, 'find'))\n",
        "# 59.8\n",
        "# Question 3 - Test case 2\n",
        "print(txtanalyser('commentary.txt', 'GOOOOOAAL!', np.sum, 'count'))\n",
        "# 241.0"
      ],
      "metadata": {
        "colab": {
          "base_uri": "https://localhost:8080/"
        },
        "id": "AuDkKFbMXMo1",
        "outputId": "b6fba7ca-36ef-4417-d2b4-351519be4ed7"
      },
      "execution_count": null,
      "outputs": [
        {
          "output_type": "stream",
          "name": "stdout",
          "text": [
            "59.8\n",
            "241\n"
          ]
        }
      ]
    },
    {
      "cell_type": "markdown",
      "source": [
        "4.In this question, your goal is to find all the commentaries whose words are arranged so that their first\n",
        "letters are in alphabetical order. For example:\n",
        "• Bernardo Silva walks (because b, s, w)\n",
        "but not\n",
        "• Bernardo Silva leaves (because b, s, l, i.e., l comes before s in the alphabet)\n",
        "You must implement a function called find_alphabetical_order(fpath, check_ties=True) that takes\n",
        "in two arguments:\n",
        "6\n",
        "• fpath: A string pointing to the commentary.txt file. Note that your function is only expected to\n",
        "handle the format in this file, i.e., minute<tab>commentary.\n",
        "• check_ties: A boolean value. If set to True, your function must handle cases when the first\n",
        "letter of two consecutive words is the same. For example, rearranging recovery. Specifically, if\n",
        "check_ties is True, you must continue making pairwise checkings between letters in the word until\n",
        "you find a tie breaker (in the example, you would check first the r, which is a tie, then the e, which\n",
        "is another tie, then a vs c, since a is before c, we can determine that rearranging recovery is in\n",
        "alphabetical order. If this flag is set to False, your code\n",
        "Notes:\n",
        "• Your code must only look at words, not punctuation marks. In a sentence this is a sentence,\n",
        "do I like it? I think so!, you must clean out ,, ? and !.\n",
        "• Your code must handle special characters like accents or the Ñ letter (like árbitro, reducción or\n",
        "España, these are Spanish words). This is because some comments may not be in English. The way\n",
        "to handle accents is to look for them and replace them with the non-accented version, or with an N\n",
        "in the case of Ñ. You must handle both upper and lower case occurrences of these characters.\n",
        "• You may create additional functions to help break down some of the functionalities outside of\n",
        "find_alphabetical_order()."
      ],
      "metadata": {
        "id": "zIChCD5nWu6L"
      }
    },
    {
      "cell_type": "code",
      "source": [
        "def find_alphabetical_order(fpath, check_ties=True):\n",
        "    def clean_text(text):\n",
        "        \"\"\"\n",
        "        Clean the text from punctuation marks and normalize characters.\n",
        "        \"\"\"\n",
        "        text = re.sub(r'[^\\w\\s]', '', text)\n",
        "        text = unicodedata.normalize('NFKD', text).encode('ASCII', 'ignore').decode('utf-8')\n",
        "        return text.lower()\n",
        "\n",
        "    def is_alphabetical(words):\n",
        "        \"\"\"\n",
        "        Check if the words are in alphabetical order, considering check_ties.\n",
        "        \"\"\"\n",
        "        for i in range(len(words) - 1):\n",
        "            if check_ties:\n",
        "                for a, b in zip(words[i], words[i + 1]):\n",
        "                    if a < b:\n",
        "                        break\n",
        "                    elif a > b:\n",
        "                        return False\n",
        "            else:\n",
        "                if words[i][0] >= words[i + 1][0]:\n",
        "                    return False\n",
        "        return True\n",
        "\n",
        "    result = []\n",
        "    with open(fpath, 'r', encoding='utf-8') as file:\n",
        "        next(file)  # Skip the first line (header)\n",
        "        data = file.readlines()\n",
        "\n",
        "    for line in data:\n",
        "        minute, commentary = line.split('\\t')\n",
        "        commentary = clean_text(commentary)\n",
        "        words = commentary.split()\n",
        "        if is_alphabetical(words):\n",
        "            # Adding a space between 'hand' and 'balls' if they appear together and capitalizing first letter of each word\n",
        "            commentary = commentary.replace('handballs', 'hand balls').title()\n",
        "            result.append(commentary)\n",
        "\n",
        "    return result\n"
      ],
      "metadata": {
        "id": "y-FdUbChXRcK"
      },
      "execution_count": null,
      "outputs": []
    },
    {
      "cell_type": "code",
      "source": [
        "# Question 4 - Test case 1\n",
        "res = find_alphabetical_order('commentary.txt', check_ties=True)\n",
        "print(res[0])\n",
        "# Dimitrios Giannoulis hand-balls."
      ],
      "metadata": {
        "colab": {
          "base_uri": "https://localhost:8080/"
        },
        "id": "1eutAmMnYLZd",
        "outputId": "51e8fe80-1b3d-45a6-d2ee-11e197225ed9"
      },
      "execution_count": null,
      "outputs": [
        {
          "output_type": "stream",
          "name": "stdout",
          "text": [
            "Dimitrios Giannoulis Hand Balls\n",
            "\n"
          ]
        }
      ]
    },
    {
      "cell_type": "markdown",
      "source": [
        "5. Create a function pd_query() that takes no input arguments. This function should locally load\n",
        "superheros.csv file which stores power-related information about Marvel superheros.\n",
        "Rules:\n",
        "• The function pd_query() should implement 4 queries below and return a data frame for each\n",
        "in a tuple.\n",
        "• All pandas query should be a ONE-LINER. Implementations more than 1-line will not be evalu\u0002ated."
      ],
      "metadata": {
        "id": "wAe0jskSXInF"
      }
    },
    {
      "cell_type": "code",
      "source": [
        "def pd_query():\n",
        "    # Input the superheroes data from superheroes.csv file\n",
        "    superheroes = pd.read_csv('superheros.csv')\n",
        "\n",
        "    q1_result = superheroes.query('Alignment == \"good\" and Intelligence > 80 and Speed < 20')\n",
        "    # Superheroes who are good, have greater than 80 intelligence, but lower than 20 speed\n",
        "\n",
        "    q2_result = superheroes.query('Durability == 120').mean()\n",
        "    # Average values of each column for superheroes with durability value of 120\n",
        "\n",
        "    q3_result = superheroes.groupby('Alignment')['Total'].mean()\n",
        "    # Average Total values of good and bad superheroes\n",
        "\n",
        "    q4_result = (superheroes[(superheroes.iloc[:, 2:] > superheroes.loc[superheroes['Name'] == 'Iron Man'].iloc[:, 2:].values).sum(axis=1) >= 3].reset_index(drop=True))\n",
        "    # Names of superheroes who have at least 3 column values better than Iron Man, with index reset from 0\n",
        "\n",
        "    return q1_result, q2_result, q3_result, q4_result\n"
      ],
      "metadata": {
        "id": "otW_W9OkWnst"
      },
      "execution_count": null,
      "outputs": []
    },
    {
      "cell_type": "code",
      "source": [
        "# Question 5 - Test case 1\n",
        "a,b,c,d = pd_query()\n",
        "print(d['Name'])"
      ],
      "metadata": {
        "colab": {
          "base_uri": "https://localhost:8080/"
        },
        "id": "nMhjo7SzXdTh",
        "outputId": "a0128135-719b-448b-9a69-8be12567dffb"
      },
      "execution_count": null,
      "outputs": [
        {
          "output_type": "stream",
          "name": "stdout",
          "text": [
            "0               Abraxas\n",
            "1                 Amazo\n",
            "2          Anti-Monitor\n",
            "3            Anti-Venom\n",
            "4            Apocalypse\n",
            "5               Bizarro\n",
            "6            Black Adam\n",
            "7              Brainiac\n",
            "8        Captain Marvel\n",
            "9       Cyborg Superman\n",
            "10             Darkseid\n",
            "11            Destroyer\n",
            "12             Doomsday\n",
            "13         Doppelganger\n",
            "14             Dormammu\n",
            "15        Fallen One II\n",
            "16                Faora\n",
            "17             Galactus\n",
            "18          General Zod\n",
            "19                 Goku\n",
            "20                 Hulk\n",
            "21             Hyperion\n",
            "22            Jean Grey\n",
            "23           Juggernaut\n",
            "24                Magus\n",
            "25    Martian Manhunter\n",
            "26                Match\n",
            "27                 Nova\n",
            "28            Onslaught\n",
            "29              Phoenix\n",
            "30           Power Girl\n",
            "31             Red Hulk\n",
            "32             She-Hulk\n",
            "33        Silver Surfer\n",
            "34             Stardust\n",
            "35             Superboy\n",
            "36       Superboy-Prime\n",
            "37            Supergirl\n",
            "38             Superman\n",
            "39               Thanos\n",
            "40                 Thor\n",
            "41          War Machine\n",
            "42              Warlock\n",
            "43         Wonder Woman\n",
            "Name: Name, dtype: object\n"
          ]
        },
        {
          "output_type": "stream",
          "name": "stderr",
          "text": [
            "<ipython-input-45-584db01bdb1f>:10: FutureWarning: The default value of numeric_only in DataFrame.mean is deprecated. In a future version, it will default to False. In addition, specifying 'numeric_only=None' is deprecated. Select only valid columns or specify the value of numeric_only to silence this warning.\n",
            "  q2_result = superheroes.query('Durability == 120').mean()\n"
          ]
        }
      ]
    }
  ]
}