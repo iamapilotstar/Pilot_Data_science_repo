{
  "nbformat": 4,
  "nbformat_minor": 0,
  "metadata": {
    "colab": {
      "provenance": []
    },
    "kernelspec": {
      "name": "python3",
      "display_name": "Python 3"
    },
    "language_info": {
      "name": "python"
    }
  },
  "cells": [
    {
      "cell_type": "markdown",
      "source": [
        "# CMT309/314 - Week 2 - *12 October 2023*\n",
        "## Lab session: **Hello World**\n",
        "This lab session is for you to exercise your skills to create variables, sequences, printing types, values, and using some sequence methods for detailed user I/O operations."
      ],
      "metadata": {
        "id": "yJ9cMdPCrJdE"
      }
    },
    {
      "cell_type": "markdown",
      "source": [
        "### Warm up Exercise\n",
        " 1. Please create one `str`, one `list`, one `tuple` and one `dict` sequences and assign them to variables of your choice. *Please make sure they have more than one elements!* Then print each of these variables. Example output:\n",
        "\n",
        " ```\n",
        " Oktay\n",
        "[3.675, 'Ole', [1]]\n",
        "('cdr', 9, 'b', [], 4.4444)\n",
        "{'Best': 'Man Utd.', 'GOAT': 'Cristiano', 'Shirt no': 7}\n",
        " ```\n",
        "\n",
        " 2. By using a **single** `print()` command, print the types of each variable you created. Make sure each type output should be printed in a new line with one more additional empty line between them (*Hint: use `sep=` option in `print` command*). Example output:\n",
        "\n",
        "    ```\n",
        "    <class 'str'>\n",
        "\n",
        "    <class 'list'>\n",
        "\n",
        "    <class 'tuple'>\n",
        "\n",
        "    <class 'dict'>\n",
        "    ```\n",
        "\n",
        " 3. Use a **single** `print()` command again, this time to print *values* of the last element of each sequence. This time your seperator will be `' .!?. '`. (*ATTENTION: Dictionary is not an ordered sequence and does not have last element!*). Example output **could** be:\n",
        "\n",
        " ```\n",
        "y .!?. [1] .!?. 4.4444 .!?. 7\n",
        " ```\n",
        "\n",
        " 4. Use `len()` fundtion and `\"\".format()` method, create a new `str` which records each sequence's length into a single meaningful sentence. Then print this new string you created. Example could be:\n",
        "\n",
        "  ```\n",
        "  I have four sequences. String has a length of 5 whilst my list sequence has 3. I also have a tuple with length of 5 and dictionary with length of 3.\n",
        "  ```"
      ],
      "metadata": {
        "id": "mXJsXwArrpAL"
      }
    },
    {
      "cell_type": "markdown",
      "source": [
        "Please create one str, one list, one tuple and one dict sequences and assign them to variables of your choice. Please make sure they have more than one elements! Then print each of these variables. Example output:"
      ],
      "metadata": {
        "id": "r8v9Pc4SdFy2"
      }
    },
    {
      "cell_type": "code",
      "execution_count": 25,
      "metadata": {
        "id": "p7B46UDZrI6D"
      },
      "outputs": [],
      "source": [
        "# 1\n",
        "test_str = 'Pilot'\n",
        "\n",
        "test_str1 = 'Amrit'\n",
        "\n",
        "test_list = ['A320','B737','A380','B747','A50','B787']\n",
        "\n",
        "test_tuple = ('Intel','AMD',2)\n",
        "\n",
        "test_dict = {'Captain':'8 Stripes','First Officer':'6 Stripes','Second Officer':'4 Stripes'}\n",
        "\n"
      ]
    },
    {
      "cell_type": "markdown",
      "source": [
        "By using a single print() command, print the types of each variable you created. Make sure each type output should be printed in a new line with one more additional empty line between them (Hint: use sep= option in print command). Example output:"
      ],
      "metadata": {
        "id": "YxJcXZfadDd5"
      }
    },
    {
      "cell_type": "code",
      "source": [
        "#2\n",
        "print(type(test_str), type(test_list), type(test_tuple), type( test_dict), sep ='\\n'  )"
      ],
      "metadata": {
        "colab": {
          "base_uri": "https://localhost:8080/"
        },
        "id": "dQQYkjV8bg26",
        "outputId": "3de4f1ed-0b6c-4856-a4f0-3e9b40cf8f58"
      },
      "execution_count": 13,
      "outputs": [
        {
          "output_type": "stream",
          "name": "stdout",
          "text": [
            "<class 'str'>\n",
            "<class 'list'>\n",
            "<class 'tuple'>\n",
            "<class 'dict'>\n"
          ]
        }
      ]
    },
    {
      "cell_type": "code",
      "source": [
        "#2\n",
        "print(test_str,test_str1 , test_list , test_dict, test_tuple, sep='\\n')\n"
      ],
      "metadata": {
        "id": "NxU3Rdgx5B1Q",
        "colab": {
          "base_uri": "https://localhost:8080/"
        },
        "outputId": "b121bb0e-74ff-4447-8dbd-1437880a4a40"
      },
      "execution_count": 28,
      "outputs": [
        {
          "output_type": "stream",
          "name": "stdout",
          "text": [
            "Pilot\n",
            "Amrit\n",
            "['A320', 'B737', 'A380', 'B747', 'A50', 'B787']\n",
            "{'Captain': '8 Stripes', 'First Officer': '6 Stripes', 'Second Officer': '4 Stripes'}\n",
            "('Intel', 'AMD', 2)\n"
          ]
        }
      ]
    },
    {
      "cell_type": "markdown",
      "source": [
        "Use a single print() command again, this time to print values of the last element of each sequence. This time your seperator will be ' .!?. '. (ATTENTION: Dictionary is not an ordered sequence and does not have last element!). Example output could be:"
      ],
      "metadata": {
        "id": "fEyx5twUcMYp"
      }
    },
    {
      "cell_type": "code",
      "source": [
        "#3\n",
        "print(test_str[-1],test_list[-1],test_dict['Second Officer'], test_tuple[-1],sep=' .!?. ')\n"
      ],
      "metadata": {
        "id": "h9WuwvJTuvrs",
        "colab": {
          "base_uri": "https://localhost:8080/"
        },
        "outputId": "a4dbfbeb-66da-4299-d8fd-af071e4150b0"
      },
      "execution_count": 27,
      "outputs": [
        {
          "output_type": "stream",
          "name": "stdout",
          "text": [
            "t .!?. B787 .!?. 4 Stripes .!?. 2\n"
          ]
        }
      ]
    },
    {
      "cell_type": "code",
      "source": [
        "#4"
      ],
      "metadata": {
        "id": "i1E6POogwPad"
      },
      "execution_count": null,
      "outputs": []
    },
    {
      "cell_type": "markdown",
      "source": [
        "### First Program\n",
        "Now please make a search for \"Sequence Methods\" for each sequence type, choose one sequence method for each type we have. Apply these methods to your sequences and print results in meaningful sentences using `\"\".format()`. Example output:\n",
        "\n",
        "```\n",
        "For my string Oktay, I applied method of  .upper()  and the result is OKTAY\n",
        "\n",
        "For my list [3.675, 'Ole', [1]], I applied method of  .append(\"New Element\")  and the result is [3.675, 'Ole', [1], 'New Element']\n",
        "\n",
        "For my tuple ('cdr', 9, 'b', [], 4.4444), I applied method of  .index(9)  and the result is 1\n",
        "\n",
        "For my dictionary {'Best': 'Man Utd.', 'GOAT': 'Cristiano', 'Shirt no': 7}, I applied method of  .pop(\"Best\")  and the result is {'GOAT': 'Cristiano', 'Shirt no': 7}\n",
        "```"
      ],
      "metadata": {
        "id": "6TB7fVLDzfRy"
      }
    },
    {
      "cell_type": "code",
      "source": [
        "print('For my string pilot i have applied {0} {1}'.format(test_str.upper(),test_str1.upper()))"
      ],
      "metadata": {
        "id": "P4dSZMpX1G3K",
        "colab": {
          "base_uri": "https://localhost:8080/"
        },
        "outputId": "9cb76f18-7167-4fb3-ebbd-5561607cd031"
      },
      "execution_count": 33,
      "outputs": [
        {
          "output_type": "stream",
          "name": "stdout",
          "text": [
            "For my string pilot i have applied PILOT AMRIT\n"
          ]
        }
      ]
    },
    {
      "cell_type": "markdown",
      "source": [
        "### Mathematical Operators and Data Types\n",
        "1. Create two integers 'a' and 'b' where a = 2 and b = 5 and print the sum.\n",
        "Example output:\n",
        "\n",
        "```\n",
        "7\n",
        "```"
      ],
      "metadata": {
        "id": "m0sVUJMc8XM7"
      }
    },
    {
      "cell_type": "markdown",
      "source": [
        "Create two integers 'a' and 'b' where a = 2 and b = 5 and print the sum. Example output:"
      ],
      "metadata": {
        "id": "ILChZhQFfqoo"
      }
    },
    {
      "cell_type": "code",
      "source": [
        "a = 2\n",
        "\n",
        "b = 5\n",
        "\n",
        "c = a + b\n",
        "\n",
        "print('The sum of a + b is {}'.format(c))"
      ],
      "metadata": {
        "colab": {
          "base_uri": "https://localhost:8080/"
        },
        "id": "9CXuV5IIfqE_",
        "outputId": "aaeaf7ce-0bbf-429a-b21e-282678d6a63c"
      },
      "execution_count": 40,
      "outputs": [
        {
          "output_type": "stream",
          "name": "stdout",
          "text": [
            "The sum of a + b is 7\n"
          ]
        }
      ]
    },
    {
      "cell_type": "markdown",
      "source": [
        "2. Using str() and '+' concatenate a and b. Example output:\n",
        "\n",
        "```\n",
        "25\n",
        "```"
      ],
      "metadata": {
        "id": "kRJDiIHD90Oz"
      }
    },
    {
      "cell_type": "code",
      "source": [
        "d = str(a) + str(b)\n",
        "\n",
        "print(d)"
      ],
      "metadata": {
        "colab": {
          "base_uri": "https://localhost:8080/"
        },
        "id": "xw0gr8DwgNzq",
        "outputId": "d165acac-f3bc-4e23-c79b-58b606cfac43"
      },
      "execution_count": 43,
      "outputs": [
        {
          "output_type": "stream",
          "name": "stdout",
          "text": [
            "25\n"
          ]
        }
      ]
    },
    {
      "cell_type": "markdown",
      "source": [
        "3. Create a new variable c = '2' with quotes. Using 'int()' or otherwise calculate a + c. Example output:\n",
        "\n",
        "```\n",
        "4\n",
        "```"
      ],
      "metadata": {
        "id": "x_G47gRC_KXj"
      }
    },
    {
      "cell_type": "code",
      "source": [
        "c = '2'\n",
        "\n",
        "e = int(a) + int(c)\n",
        "\n",
        "print(e)\n"
      ],
      "metadata": {
        "colab": {
          "base_uri": "https://localhost:8080/"
        },
        "id": "QtngzxergoTB",
        "outputId": "5bb6ed6b-8547-49ac-ecab-ccfadab318dd"
      },
      "execution_count": 45,
      "outputs": [
        {
          "output_type": "stream",
          "name": "stdout",
          "text": [
            "4\n"
          ]
        }
      ]
    },
    {
      "cell_type": "markdown",
      "source": [
        "4. Print b%a, ie the remainder. Check your answer by hand. Example output:\n",
        "\n",
        "```\n",
        "1\n",
        "```\n"
      ],
      "metadata": {
        "id": "PCGIudFgA14c"
      }
    },
    {
      "cell_type": "code",
      "source": [
        "print(b%a)"
      ],
      "metadata": {
        "colab": {
          "base_uri": "https://localhost:8080/"
        },
        "id": "6Haon_pig7p1",
        "outputId": "78442e6b-2e00-486e-b847-44dc440e1cec"
      },
      "execution_count": 46,
      "outputs": [
        {
          "output_type": "stream",
          "name": "stdout",
          "text": [
            "1\n"
          ]
        }
      ]
    },
    {
      "cell_type": "markdown",
      "source": [
        "5. Print the value and types of a, c, d and e, where d = a/b and e = a>b, consider the output. Example output:\n",
        "\n",
        "```\n",
        "a= 2 <class 'int'>\n",
        "c= 2 <class 'str'>\n",
        "d= 0.4 <class 'float'>\n",
        "e= False <class 'bool'>\n",
        "```"
      ],
      "metadata": {
        "id": "pz3PHBg4Jm_0"
      }
    },
    {
      "cell_type": "code",
      "source": [
        "d = int(a) / int(b)\n",
        "\n",
        "e = int(a) > int(b)\n",
        "\n",
        "\n",
        "print('a=',a,type(a))\n",
        "\n",
        "print('c=',c,type(c))\n",
        "\n",
        "print('d=',d,type(d))\n",
        "\n",
        "print('e=',e,type(e))"
      ],
      "metadata": {
        "colab": {
          "base_uri": "https://localhost:8080/"
        },
        "id": "PdZivAxAhBSb",
        "outputId": "779f3640-025f-4a14-f802-80cafe5787d3"
      },
      "execution_count": 56,
      "outputs": [
        {
          "output_type": "stream",
          "name": "stdout",
          "text": [
            "a= 2 <class 'int'>\n",
            "c= 2 <class 'str'>\n",
            "d= 0.4 <class 'float'>\n",
            "e= False <class 'bool'>\n"
          ]
        }
      ]
    },
    {
      "cell_type": "markdown",
      "source": [
        "6. Using *only* mathematical operators (ie no 'if' statement), print and the 'input' function create a short program that returns as boolean if the entered number is less than 10. Create one multi-line comment, and one single line comment (in this case they may be trivial). Example output (I entered '7'):\n",
        "\n",
        "```\n",
        "Check if number is less than 107\n",
        "True\n",
        "```"
      ],
      "metadata": {
        "id": "Z9oMZ-gkLHwc"
      }
    },
    {
      "cell_type": "code",
      "source": [
        "#1\n",
        "Bool_tester = int(input('Enter the Number that returns whether true or false: '))\n",
        "\n",
        "bool_check = Bool_tester < 10\n",
        "\n",
        "print(f'The boolean value is {bool_check}')\n"
      ],
      "metadata": {
        "id": "1vJEJcme8Wp8",
        "colab": {
          "base_uri": "https://localhost:8080/"
        },
        "outputId": "f8bdaeb2-3820-45f8-e8dd-005736ae5e6e"
      },
      "execution_count": 58,
      "outputs": [
        {
          "output_type": "stream",
          "name": "stdout",
          "text": [
            "Enter the Number that returns whether true or false: 5\n",
            "The boolean value is True\n"
          ]
        }
      ]
    }
  ]
}