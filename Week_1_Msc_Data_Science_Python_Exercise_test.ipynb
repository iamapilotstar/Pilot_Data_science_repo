{
  "nbformat": 4,
  "nbformat_minor": 0,
  "metadata": {
    "colab": {
      "provenance": []
    },
    "kernelspec": {
      "name": "python3",
      "display_name": "Python 3"
    },
    "language_info": {
      "name": "python"
    }
  },
  "cells": [
    {
      "cell_type": "markdown",
      "source": [
        "# CMT309/314 - Week 2 - *12 October 2023*\n",
        "## Lab session: **Hello World**\n",
        "This lab session is for you to exercise your skills to create variables, sequences, printing types, values, and using some sequence methods for detailed user I/O operations."
      ],
      "metadata": {
        "id": "yJ9cMdPCrJdE"
      }
    },
    {
      "cell_type": "markdown",
      "source": [
        "### Warm up Exercise\n",
        " 1. Please create one `str`, one `list`, one `tuple` and one `dict` sequences and assign them to variables of your choice. *Please make sure they have more than one elements!* Then print each of these variables. Example output:\n",
        "\n",
        " ```\n",
        " Oktay\n",
        "[3.675, 'Ole', [1]]\n",
        "('cdr', 9, 'b', [], 4.4444)\n",
        "{'Best': 'Man Utd.', 'GOAT': 'Cristiano', 'Shirt no': 7}\n",
        " ```\n",
        "\n",
        " 2. By using a **single** `print()` command, print the types of each variable you created. Make sure each type output should be printed in a new line with one more additional empty line between them (*Hint: use `sep=` option in `print` command*). Example output:\n",
        "\n",
        "    ```\n",
        "    <class 'str'>\n",
        "\n",
        "    <class 'list'>\n",
        "\n",
        "    <class 'tuple'>\n",
        "\n",
        "    <class 'dict'>\n",
        "    ```\n",
        "\n",
        " 3. Use a **single** `print()` command again, this time to print *values* of the last element of each sequence. This time your seperator will be `' .!?. '`. (*ATTENTION: Dictionary is not an ordered sequence and does not have last element!*). Example output **could** be:\n",
        "\n",
        " ```\n",
        "y .!?. [1] .!?. 4.4444 .!?. 7\n",
        " ```\n",
        "\n",
        " 4. Use `len()` fundtion and `\"\".format()` method, create a new `str` which records each sequence's length into a single meaningful sentence. Then print this new string you created. Example could be:\n",
        "\n",
        "  ```\n",
        "  I have four sequences. String has a length of 5 whilst my list sequence has 3. I also have a tuple with length of 5 and dictionary with length of 3.\n",
        "  ```"
      ],
      "metadata": {
        "id": "mXJsXwArrpAL"
      }
    },
    {
      "cell_type": "code",
      "source": [
        "print(type(name),type(planes),type(ML),type(Phone), sep='\\n\\n')"
      ],
      "metadata": {
        "colab": {
          "base_uri": "https://localhost:8080/"
        },
        "id": "1V4rHvMbTm2h",
        "outputId": "edd8b086-c464-46fd-d4b9-0097e064dd14"
      },
      "execution_count": 54,
      "outputs": [
        {
          "output_type": "stream",
          "name": "stdout",
          "text": [
            "<class 'str'>\n",
            "\n",
            "<class 'list'>\n",
            "\n",
            "<class 'tuple'>\n",
            "\n",
            "<class 'dict'>\n"
          ]
        }
      ]
    },
    {
      "cell_type": "code",
      "source": [
        "#1 Printing a String\n",
        "\n",
        "name= 'Pilot'\n",
        "print(name)"
      ],
      "metadata": {
        "colab": {
          "base_uri": "https://localhost:8080/"
        },
        "id": "dN8efjTAe0ya",
        "outputId": "03b24dd0-5ade-4002-b565-94b362352f01"
      },
      "execution_count": 48,
      "outputs": [
        {
          "output_type": "stream",
          "name": "stdout",
          "text": [
            "Pilot\n"
          ]
        }
      ]
    },
    {
      "cell_type": "code",
      "execution_count": 17,
      "metadata": {
        "id": "p7B46UDZrI6D",
        "colab": {
          "base_uri": "https://localhost:8080/"
        },
        "outputId": "f3340852-8cad-4f99-a25d-46ca430d56e2"
      },
      "outputs": [
        {
          "output_type": "stream",
          "name": "stdout",
          "text": [
            "['Airbus', 'Boeing', 'ATR', 'Embraer']\n"
          ]
        }
      ],
      "source": [
        "#2 Printing a List\n",
        "planes = ['Airbus','Boeing','ATR','Embraer']\n",
        "print(planes)\n"
      ]
    },
    {
      "cell_type": "code",
      "source": [
        "#3 Printing a Tuple\n",
        "\n",
        "ML = ('Supervised Learning','Unsupervised Learning','Ensemble techniques','NLP')\n",
        "print(ML)"
      ],
      "metadata": {
        "id": "NxU3Rdgx5B1Q",
        "colab": {
          "base_uri": "https://localhost:8080/"
        },
        "outputId": "faa879f4-733a-4d11-92c2-a97ede20ef60"
      },
      "execution_count": 18,
      "outputs": [
        {
          "output_type": "stream",
          "name": "stdout",
          "text": [
            "('Supervised Learning', 'Unsupervised Learning', 'Ensemble techniques', 'NLP')\n"
          ]
        }
      ]
    },
    {
      "cell_type": "code",
      "source": [
        "#4 Printing a Dict\n",
        "\n",
        "Phone = {'Android':'Samsung', 'IOS':'Apple'}\n",
        "print(Phone)\n"
      ],
      "metadata": {
        "id": "h9WuwvJTuvrs",
        "colab": {
          "base_uri": "https://localhost:8080/"
        },
        "outputId": "e48dfd37-30ff-4037-9c25-21ea4ee377ea"
      },
      "execution_count": 19,
      "outputs": [
        {
          "output_type": "stream",
          "name": "stdout",
          "text": [
            "{'Android': 'Samsung', 'IOS': 'Apple'}\n"
          ]
        }
      ]
    },
    {
      "cell_type": "markdown",
      "source": [
        "### First Program\n",
        "Now please make a search for \"Sequence Methods\" for each sequence type, choose one sequence method for each type we have. Apply these methods to your sequences and print results in meaningful sentences using `\"\".format()`. Example output:\n",
        "\n",
        "```\n",
        "For my string Oktay, I applied method of  .upper()  and the result is OKTAY\n",
        "\n",
        "For my list [3.675, 'Ole', [1]], I applied method of  .append(\"New Element\")  and the result is [3.675, 'Ole', [1], 'New Element']\n",
        "\n",
        "For my tuple ('cdr', 9, 'b', [], 4.4444), I applied method of  .index(9)  and the result is 1\n",
        "\n",
        "For my dictionary {'Best': 'Man Utd.', 'GOAT': 'Cristiano', 'Shirt no': 7}, I applied method of  .pop(\"Best\")  and the result is {'GOAT': 'Cristiano', 'Shirt no': 7}\n",
        "```"
      ],
      "metadata": {
        "id": "6TB7fVLDzfRy"
      }
    },
    {
      "cell_type": "code",
      "source": [
        "#Appended Lower case\n",
        "\n",
        "name.lower()"
      ],
      "metadata": {
        "id": "P4dSZMpX1G3K",
        "colab": {
          "base_uri": "https://localhost:8080/",
          "height": 35
        },
        "outputId": "e14416ed-1066-4a62-abcb-8cafb2d4da2b"
      },
      "execution_count": 55,
      "outputs": [
        {
          "output_type": "execute_result",
          "data": {
            "text/plain": [
              "'pilot'"
            ],
            "application/vnd.google.colaboratory.intrinsic+json": {
              "type": "string"
            }
          },
          "metadata": {},
          "execution_count": 55
        }
      ]
    },
    {
      "cell_type": "code",
      "source": [
        "planes.append('bombardier')\n",
        "print(planes)"
      ],
      "metadata": {
        "colab": {
          "base_uri": "https://localhost:8080/"
        },
        "id": "2HiR_6w0hDAS",
        "outputId": "341725a9-bd5a-4906-e309-5bccf2b8a123"
      },
      "execution_count": 21,
      "outputs": [
        {
          "output_type": "stream",
          "name": "stdout",
          "text": [
            "['Airbus', 'Boeing', 'ATR', 'Embraer', 'bombardier']\n"
          ]
        }
      ]
    },
    {
      "cell_type": "code",
      "source": [
        "ML[1]"
      ],
      "metadata": {
        "colab": {
          "base_uri": "https://localhost:8080/",
          "height": 35
        },
        "id": "Tf0X6ul2hVtM",
        "outputId": "d841b190-dfab-4a7a-e212-3769fe4c35e1"
      },
      "execution_count": 27,
      "outputs": [
        {
          "output_type": "execute_result",
          "data": {
            "text/plain": [
              "'Unsupervised Learning'"
            ],
            "application/vnd.google.colaboratory.intrinsic+json": {
              "type": "string"
            }
          },
          "metadata": {},
          "execution_count": 27
        }
      ]
    },
    {
      "cell_type": "code",
      "source": [
        "Phone.pop('IOS')"
      ],
      "metadata": {
        "colab": {
          "base_uri": "https://localhost:8080/",
          "height": 35
        },
        "id": "xTZEfLL8i2LB",
        "outputId": "74bd8484-2ab0-4242-a4bb-385acee035a1"
      },
      "execution_count": 24,
      "outputs": [
        {
          "output_type": "execute_result",
          "data": {
            "text/plain": [
              "'Apple'"
            ],
            "application/vnd.google.colaboratory.intrinsic+json": {
              "type": "string"
            }
          },
          "metadata": {},
          "execution_count": 24
        }
      ]
    },
    {
      "cell_type": "markdown",
      "source": [
        "### Mathematical Operators and Data Types\n",
        "1. Create two integers 'a' and 'b' where a = 2 and b = 5 and print the sum.\n",
        "Example output:\n",
        "\n",
        "```\n",
        "7\n",
        "```"
      ],
      "metadata": {
        "id": "m0sVUJMc8XM7"
      }
    },
    {
      "cell_type": "code",
      "source": [
        "a = 2\n",
        "b = 5\n",
        "out = a + b\n",
        "print(out)"
      ],
      "metadata": {
        "colab": {
          "base_uri": "https://localhost:8080/"
        },
        "id": "7C3ZTizokEmR",
        "outputId": "b329e394-21e8-4f62-f2dc-3835858c6202"
      },
      "execution_count": 29,
      "outputs": [
        {
          "output_type": "stream",
          "name": "stdout",
          "text": [
            "7\n"
          ]
        }
      ]
    },
    {
      "cell_type": "markdown",
      "source": [
        "2. Using str() and '+' concatenate a and b. Example output:\n",
        "\n",
        "```\n",
        "25\n",
        "```"
      ],
      "metadata": {
        "id": "kRJDiIHD90Oz"
      }
    },
    {
      "cell_type": "code",
      "source": [
        "result = str(a) + str(b)\n",
        "print(result)"
      ],
      "metadata": {
        "colab": {
          "base_uri": "https://localhost:8080/"
        },
        "id": "XCzBWO1XkcGF",
        "outputId": "17137eb5-76bb-4b82-e453-6c26e9b41be1"
      },
      "execution_count": 30,
      "outputs": [
        {
          "output_type": "stream",
          "name": "stdout",
          "text": [
            "25\n"
          ]
        }
      ]
    },
    {
      "cell_type": "markdown",
      "source": [
        "3. Create a new variable c = '2' with quotes. Using 'int()' or otherwise calculate a + c. Example output:\n",
        "\n",
        "```\n",
        "4\n",
        "```"
      ],
      "metadata": {
        "id": "x_G47gRC_KXj"
      }
    },
    {
      "cell_type": "code",
      "source": [
        "c ='2'\n",
        "int(c) + int(a)"
      ],
      "metadata": {
        "colab": {
          "base_uri": "https://localhost:8080/"
        },
        "id": "9hX4Wnb-lpfv",
        "outputId": "6966684f-457c-4ad1-8122-f94f14e905ee"
      },
      "execution_count": 31,
      "outputs": [
        {
          "output_type": "execute_result",
          "data": {
            "text/plain": [
              "4"
            ]
          },
          "metadata": {},
          "execution_count": 31
        }
      ]
    },
    {
      "cell_type": "markdown",
      "source": [
        "4. Print b%a, ie the remainder. Check your answer by hand. Example output:\n",
        "\n",
        "```\n",
        "1\n",
        "```\n"
      ],
      "metadata": {
        "id": "PCGIudFgA14c"
      }
    },
    {
      "cell_type": "code",
      "source": [
        "d = b%a\n",
        "print(d)"
      ],
      "metadata": {
        "colab": {
          "base_uri": "https://localhost:8080/"
        },
        "id": "wTD_3qjwmEUQ",
        "outputId": "736fe998-0848-4890-8f49-c8d2d378ae84"
      },
      "execution_count": 32,
      "outputs": [
        {
          "output_type": "stream",
          "name": "stdout",
          "text": [
            "1\n"
          ]
        }
      ]
    },
    {
      "cell_type": "markdown",
      "source": [
        "5. Print the value and types of a, c, d and e, where d = a/b and e = a>b, consider the output. Example output:\n",
        "\n",
        "```\n",
        "a= 2 <class 'int'>\n",
        "c= 2 <class 'str'>\n",
        "d= 0.4 <class 'float'>\n",
        "e= False <class 'bool'>\n",
        "```"
      ],
      "metadata": {
        "id": "pz3PHBg4Jm_0"
      }
    },
    {
      "cell_type": "code",
      "source": [
        "a = 2\n",
        "\n",
        "b = 5\n",
        "\n",
        "c = 2\n",
        "\n",
        "d = a/b\n",
        "e = a>b\n",
        "\n",
        "#printing a,b,c,d,e and thier dtypes\n",
        "\n",
        "print('a:', a, 'type' ,type(a))\n",
        "print('b:', b, 'type', type(b))\n",
        "print('c:', c, 'type', type(c))\n",
        "print('d:', d, 'type', type(d))\n",
        "print('e:', e, 'type', type(e))"
      ],
      "metadata": {
        "colab": {
          "base_uri": "https://localhost:8080/"
        },
        "id": "9wjNVQlDmMyg",
        "outputId": "ad21ab8b-db5f-4558-9417-de89fef6e352"
      },
      "execution_count": 47,
      "outputs": [
        {
          "output_type": "stream",
          "name": "stdout",
          "text": [
            "a: 2 type <class 'int'>\n",
            "b: 5 type <class 'int'>\n",
            "c: 2 type <class 'int'>\n",
            "d: 0.4 type <class 'float'>\n",
            "e: False type <class 'bool'>\n"
          ]
        }
      ]
    },
    {
      "cell_type": "markdown",
      "source": [
        "6. Using *only* mathematical operators (ie no 'if' statement), print and the 'input' function create a short program that returns as boolean if the entered number is less than 10. Create one multi-line comment, and one single line comment (in this case they may be trivial). Example output (I entered '7'):\n",
        "\n",
        "```\n",
        "Check if number is less than 107\n",
        "True\n",
        "```"
      ],
      "metadata": {
        "id": "Z9oMZ-gkLHwc"
      }
    },
    {
      "cell_type": "code",
      "source": [
        "a = int(input('Check if number is less than 10: ')) #Get a user Input\n",
        "\n",
        "#convert the number to INT\n",
        "\n",
        "con_input = int(a)\n",
        "\n",
        "resultant = con_input < 10 #action the logic\n",
        "\n",
        "print(resultant) #print the Boolean\n"
      ],
      "metadata": {
        "id": "1vJEJcme8Wp8",
        "colab": {
          "base_uri": "https://localhost:8080/"
        },
        "outputId": "5e07162b-b7d0-4f93-e246-8a122d698ec7"
      },
      "execution_count": 34,
      "outputs": [
        {
          "output_type": "stream",
          "name": "stdout",
          "text": [
            "Check if number is less than 10: 1\n",
            "True\n"
          ]
        }
      ]
    }
  ]
}